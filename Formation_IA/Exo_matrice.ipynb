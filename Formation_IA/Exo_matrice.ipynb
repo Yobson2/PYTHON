{
 "cells": [
  {
   "cell_type": "markdown",
   "id": "b20c9362",
   "metadata": {},
   "source": [
    "# Multiple"
   ]
  },
  {
   "cell_type": "code",
   "execution_count": null,
   "id": "d37fe29b",
   "metadata": {},
   "outputs": [],
   "source": [
    "import numpy as np\n",
    "\n",
    "\n",
    "affichage = [\"Entrez les valeurs de la matrice A sous forme de liste, par exemple : [[1,2],[3,4]]\",\n",
    "             \"Entrez les valeurs de la matrice B sous forme de liste, par exemple : [[5,6],[7,8]]\"]\n",
    "\n",
    "matrice_A = np.array(eval(input(affichage[0] + \": \")))\n",
    "matrice_B = np.array(eval(input(affichage[1] + \": \")))\n",
    "\n",
    "def multi_matrice(matrice_A, matrice_B):\n",
    "    try:\n",
    "        return matrice_A.dot(matrice_B)\n",
    "    except:\n",
    "        return print(\"Erreur!!!, il faut respecté la regle de multiplication de 2 matrice\")\n",
    "    \n",
    "\n",
    "print(multi_matrice(matrice_A, matrice_B))\n",
    "matrice_A.dot(matrice_B)"
   ]
  },
  {
   "cell_type": "markdown",
   "id": "ffc7f237",
   "metadata": {},
   "source": [
    "# 2-Determinant d'une matrice"
   ]
  },
  {
   "cell_type": "code",
   "execution_count": null,
   "id": "1bb9b100",
   "metadata": {},
   "outputs": [],
   "source": [
    "import numpy as np\n",
    "\n",
    "matrix=np.array(eval(input(\"matrice\" + \": \")))\n",
    "result = np.linalg.det(matrix)\n",
    "print(result)"
   ]
  },
  {
   "cell_type": "markdown",
   "id": "c1e3c5fd",
   "metadata": {},
   "source": [
    "# 3-Inverse d'une matrice"
   ]
  },
  {
   "cell_type": "code",
   "execution_count": null,
   "id": "aacc74ca",
   "metadata": {},
   "outputs": [],
   "source": [
    "import numpy as np\n",
    "\n",
    "matrix=np.array(eval(input(\"matrice\" + \": \")))\n",
    "inv = np.linalg.inv(matrix)\n",
    "print(inv)\n"
   ]
  }
 ],
 "metadata": {
  "kernelspec": {
   "display_name": "Python 3 (ipykernel)",
   "language": "python",
   "name": "python3"
  },
  "language_info": {
   "codemirror_mode": {
    "name": "ipython",
    "version": 3
   },
   "file_extension": ".py",
   "mimetype": "text/x-python",
   "name": "python",
   "nbconvert_exporter": "python",
   "pygments_lexer": "ipython3",
   "version": "3.9.13"
  }
 },
 "nbformat": 4,
 "nbformat_minor": 5
}
