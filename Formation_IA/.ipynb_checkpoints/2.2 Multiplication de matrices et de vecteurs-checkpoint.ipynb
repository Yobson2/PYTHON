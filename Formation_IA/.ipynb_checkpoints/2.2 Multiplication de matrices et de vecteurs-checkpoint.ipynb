{
 "cells": [
  {
   "cell_type": "code",
   "execution_count": null,
   "metadata": {
    "collapsed": true,
    "hideCode": false,
    "hidePrompt": false,
    "id": "AdB8ThQ52Aw7"
   },
   "outputs": [],
   "source": [
    "import numpy as np"
   ]
  },
  {
   "cell_type": "code",
   "execution_count": null,
   "metadata": {
    "collapsed": true,
    "hideCode": false,
    "hidePrompt": false,
    "id": "wtusAVJV2AxI"
   },
   "outputs": [],
   "source": [
    "# Avoid inaccurate floating values (for inverse matrices in dot product for instance)\n",
    "# See https://stackoverflow.com/questions/24537791/numpy-matrix-inversion-rounding-errors\n",
    "np.set_printoptions(suppress=True)"
   ]
  },
  {
   "cell_type": "code",
   "execution_count": null,
   "metadata": {
    "id": "K1bcZViZ2AxO",
    "outputId": "9229bdf6-9143-4013-cc35-816829d23a03"
   },
   "outputs": [
    {
     "data": {
      "text/html": [
       "<style>\n",
       ".pquote {\n",
       "  text-align: left;\n",
       "  margin: 40px 0 40px auto;\n",
       "  width: 70%;\n",
       "  font-size: 1.5em;\n",
       "  font-style: italic;\n",
       "  display: block;\n",
       "  line-height: 1.3em;\n",
       "  color: #5a75a7;\n",
       "  font-weight: 600;\n",
       "  border-left: 5px solid rgba(90, 117, 167, .1);\n",
       "  padding-left: 6px;\n",
       "}\n",
       ".notes {\n",
       "  font-style: italic;\n",
       "  display: block;\n",
       "  margin: 40px 10%;\n",
       "}\n",
       "img + em {\n",
       "  text-align: center;\n",
       "  display: block;\n",
       "  color: gray;\n",
       "  font-size: 0.9em;\n",
       "  font-weight: 600;\n",
       "}\n",
       "</style>"
      ],
      "text/plain": [
       "<IPython.core.display.HTML object>"
      ]
     },
     "metadata": {},
     "output_type": "display_data"
    }
   ],
   "source": [
    "%%html\n",
    "<style>\n",
    ".pquote {\n",
    "  text-align: left;\n",
    "  margin: 40px 0 40px auto;\n",
    "  width: 70%;\n",
    "  font-size: 1.5em;\n",
    "  font-style: italic;\n",
    "  display: block;\n",
    "  line-height: 1.3em;\n",
    "  color: #5a75a7;\n",
    "  font-weight: 600;\n",
    "  border-left: 5px solid rgba(90, 117, 167, .1);\n",
    "  padding-left: 6px;\n",
    "}\n",
    ".notes {\n",
    "  font-style: italic;\n",
    "  display: block;\n",
    "  margin: 40px 10%;\n",
    "}\n",
    "img + em {\n",
    "  text-align: center;\n",
    "  display: block;\n",
    "  color: gray;\n",
    "  font-size: 0.9em;\n",
    "  font-weight: 600;\n",
    "}\n",
    "</style>"
   ]
  },
  {
   "cell_type": "markdown",
   "metadata": {
    "id": "8fiHYlXn2Axb"
   },
   "source": [
    "$$\n",
    "\\newcommand\\bs[1]{\\boldsymbol{#1}}\n",
    "$$"
   ]
  },
  {
   "cell_type": "markdown",
   "metadata": {
    "id": "YHnsQoPV2Axp"
   },
   "source": [
    "# Introduction\n",
    "\n",
    "Le produit scalaire est un concept majeur de l'algèbre linéaire et donc de l'apprentissage automatique et de la science des données. Nous verrons quelques propriétés de cette opération. Ensuite, nous aurons quelques intuitions sur le lien entre matrices et systèmes d'équations linéaires."
   ]
  },
  {
   "cell_type": "markdown",
   "metadata": {
    "hideCode": false,
    "hidePrompt": false,
    "id": "79_LGyBf2Axt"
   },
   "source": [
    "# 2.2 Multiplication de matrices et de vecteurs\n",
    "\n",
    "La manière standard de multiplier des matrices n'est pas de multiplier chaque élément de l'une avec chaque élément de l'autre (appelé le *produit par élément*) mais de calculer la somme des produits entre lignes et colonnes. Le produit matriciel, également appelé **produit point**, se calcule comme suit :\n",
    "\n",
    "<img src=\"images/dot-product.png\" width=\"400\" alt=\"Un exemple sur comment calculer le produit scalaire entre une matrice et un vecteur\" \n",
    "title=\"Le produit scalaire entre une matrice et un vecteur\">\n",
    "<em>Le produit scalaire entre une matrice et un vecteur</em>\n",
    "\n",
    "Le nombre de colonnes de la première matrice doit être égal au nombre de lignes de la deuxième matrice. Si les dimensions de la première matrice sont ($m \\times n$), la deuxième matrice doit avoir la forme ($n \\times x$). La matrice résultante aura la forme ($m \\times x$)."
   ]
  },
  {
   "cell_type": "markdown",
   "metadata": {
    "id": "XZGACM5H2Axz"
   },
   "source": [
    "### Exemple 1.\n",
    "\n",
    "Commençons par la multiplication d'une matrice et d'un vecteur.\n",
    "\n",
    "$$\\bs{A} \\bs{b} = \\bs{C}$$\n",
    "\n",
    "with $\n",
    "\\bs{A}=\n",
    "\\begin{bmatrix}\n",
    "    1 & 2\\\\\\\\\n",
    "    3 & 4\\\\\\\\\n",
    "    5 & 6\n",
    "\\end{bmatrix}\n",
    "$ and $\\bs{b}=\\begin{bmatrix}\n",
    "    2\\\\\\\\\n",
    "    4\n",
    "\\end{bmatrix}$.\n",
    "\n",
    "Nous avons vu que la formule est la suivante :\n",
    "\n",
    "$$\n",
    "\\begin{align*}\n",
    "&\\begin{bmatrix}\n",
    "    A_{1,1} & A_{1,2} \\\\\\\\\n",
    "    A_{2,1} & A_{2,2} \\\\\\\\\n",
    "    A_{3,1} & A_{3,2}\n",
    "\\end{bmatrix}\\times\n",
    "\\begin{bmatrix}\n",
    "    B_{1,1} \\\\\\\\\n",
    "    B_{2,1}\n",
    "\\end{bmatrix}=\\\\\\\\\n",
    "&\\begin{bmatrix}\n",
    "    A_{1,1}B_{1,1} + A_{1,2}B_{2,1} \\\\\\\\\n",
    "    A_{2,1}B_{1,1} + A_{2,2}B_{2,1} \\\\\\\\\n",
    "    A_{3,1}B_{1,1} + A_{3,2}B_{2,1}\n",
    "\\end{bmatrix}\n",
    "\\end{align*}\n",
    "$$\n",
    "\n",
    "Alors on aura:\n",
    "\n",
    "$$\n",
    "\\begin{align*}\n",
    "&\\begin{bmatrix}\n",
    "    1 & 2 \\\\\\\\\n",
    "    3 & 4 \\\\\\\\\n",
    "    5 & 6\n",
    "\\end{bmatrix}\n",
    "\\begin{bmatrix}\n",
    "    2 \\\\\\\\\n",
    "    4\n",
    "\\end{bmatrix}=\\\\\\\\\n",
    "&\\begin{bmatrix}\n",
    "    1 \\times 2 + 2 \\times 4 \\\\\\\\\n",
    "    3 \\times 2 + 4 \\times 4 \\\\\\\\\n",
    "    5 \\times 2 + 6 \\times 4\n",
    "\\end{bmatrix}=\n",
    "\\begin{bmatrix}\n",
    "    10 \\\\\\\\\n",
    "    22 \\\\\\\\\n",
    "    34\n",
    "\\end{bmatrix}\n",
    "\\end{align*}\n",
    "$$\n",
    "\n",
    "C'est une bonne habitude de vérifier les dimensions de la matrice pour voir ce qui se passe. Nous pouvons voir dans cet exemple que la forme de $\\bs{A}$ est ($3 \\times 2$) et que la forme de $\\bs{b}$ est ($2 \\times 1$). Les dimensions de $\\bs{C}$ sont donc ($3 \\times 1$)."
   ]
  },
  {
   "cell_type": "markdown",
   "metadata": {
    "hideCode": false,
    "hidePrompt": false,
    "id": "D8fa1VA82Ax7"
   },
   "source": [
    "### Avec Numpy\n",
    "\n",
    "La fonction Numpy `dot()` peut être utilisée pour calculer le produit matriciel (ou produit scalaire). Essayons de reproduire le dernier exemple :"
   ]
  },
  {
   "cell_type": "code",
   "execution_count": null,
   "metadata": {
    "hideCode": false,
    "hidePrompt": false,
    "id": "W1GfYl0Z2Ax-",
    "outputId": "663dd5a0-1ce9-4191-f955-53c8af9c828c"
   },
   "outputs": [
    {
     "data": {
      "text/plain": [
       "array([[1, 2],\n",
       "       [3, 4],\n",
       "       [5, 6]])"
      ]
     },
     "execution_count": 80,
     "metadata": {},
     "output_type": "execute_result"
    }
   ],
   "source": [
    "A = np.array([[1, 2], [3, 4], [5, 6]])\n",
    "A"
   ]
  },
  {
   "cell_type": "code",
   "execution_count": null,
   "metadata": {
    "id": "GBEkEiiK2AyC",
    "outputId": "f5386370-5144-401a-b8a8-8a2960037c74"
   },
   "outputs": [
    {
     "data": {
      "text/plain": [
       "array([[2],\n",
       "       [4]])"
      ]
     },
     "execution_count": 81,
     "metadata": {},
     "output_type": "execute_result"
    }
   ],
   "source": [
    "B = np.array([[2], [4]])\n",
    "B"
   ]
  },
  {
   "cell_type": "code",
   "execution_count": null,
   "metadata": {
    "hideCode": false,
    "hidePrompt": false,
    "id": "vDNEn_da2AyF",
    "outputId": "1b001858-5849-4d94-b4d5-6e998098f6ac"
   },
   "outputs": [
    {
     "data": {
      "text/plain": [
       "array([[10],\n",
       "       [22],\n",
       "       [34]])"
      ]
     },
     "execution_count": 82,
     "metadata": {},
     "output_type": "execute_result"
    }
   ],
   "source": [
    "C = np.dot(A, B)\n",
    "C"
   ]
  },
  {
   "cell_type": "markdown",
   "metadata": {
    "id": "5PR7bc8b2AyJ"
   },
   "source": [
    "C'est équivalent à utiliser la méthode `dot()` des tableaux Numpy :"
   ]
  },
  {
   "cell_type": "code",
   "execution_count": null,
   "metadata": {
    "id": "gB4qPGVk2AyL",
    "outputId": "e4724501-e3cb-4e70-cf53-8e07bc1b0ef8"
   },
   "outputs": [
    {
     "data": {
      "text/plain": [
       "array([[10],\n",
       "       [22],\n",
       "       [34]])"
      ]
     },
     "execution_count": 83,
     "metadata": {},
     "output_type": "execute_result"
    }
   ],
   "source": [
    "C = A.dot(B)\n",
    "C"
   ]
  },
  {
   "cell_type": "markdown",
   "metadata": {
    "hideCode": false,
    "hidePrompt": false,
    "id": "UgEX7CAv2AyO"
   },
   "source": [
    "### Exemple 2.\n",
    "\n",
    "Multiplication de deux matrices.\n",
    "\n",
    "$$\\bs{A} \\times \\bs{B} = \\bs{C}$$\n",
    "\n",
    "Avec:\n",
    "\n",
    "$$\\bs{A}=\\begin{bmatrix}\n",
    "    1 & 2 & 3 \\\\\\\\\n",
    "    4 & 5 & 6 \\\\\\\\\n",
    "    7 & 8 & 9 \\\\\\\\\n",
    "    10 & 11 & 12\n",
    "\\end{bmatrix}\n",
    "$$\n",
    "\n",
    "et:\n",
    "\n",
    "$$\\bs{B}=\\begin{bmatrix}\n",
    "    2 & 7 \\\\\\\\\n",
    "    1 & 2 \\\\\\\\\n",
    "    3 & 6\n",
    "\\end{bmatrix}\n",
    "$$\n",
    "\n",
    "Alors on a:\n",
    "\n",
    "$$\n",
    "\\begin{align*}\n",
    "&\\begin{bmatrix}\n",
    "    1 & 2 & 3 \\\\\\\\\n",
    "    4 & 5 & 6 \\\\\\\\\n",
    "    7 & 8 & 9 \\\\\\\\\n",
    "    10 & 11 & 12\n",
    "\\end{bmatrix}\n",
    "\\begin{bmatrix}\n",
    "    2 & 7 \\\\\\\\\n",
    "    1 & 2 \\\\\\\\\n",
    "    3 & 6\n",
    "\\end{bmatrix}=\\\\\\\\\n",
    "&\\begin{bmatrix}\n",
    "    2 \\times 1 + 1 \\times 2 + 3 \\times 3 & 7 \\times 1 + 2 \\times 2 + 6 \\times 3 \\\\\\\\\n",
    "    2 \\times 4 + 1 \\times 5 + 3 \\times 6 & 7 \\times 4 + 2 \\times 5 + 6 \\times 6 \\\\\\\\\n",
    "    2 \\times 7 + 1 \\times 8 + 3 \\times 9 & 7 \\times 7 + 2 \\times 8 + 6 \\times 9 \\\\\\\\\n",
    "    2 \\times 10 + 1 \\times 11 + 3 \\times 12 & 7 \\times 10 + 2 \\times 11 + 6 \\times 12 \\\\\\\\\n",
    "\\end{bmatrix}\\\\\\\\\n",
    "&=\n",
    "\\begin{bmatrix}\n",
    "    13 & 29 \\\\\\\\\n",
    "    31 & 74 \\\\\\\\\n",
    "    49 & 119 \\\\\\\\\n",
    "    67 & 164\n",
    "\\end{bmatrix}\n",
    "\\end{align*}\n",
    "$$\n",
    "\n",
    "Vérifions le résultat avec Numpy :"
   ]
  },
  {
   "cell_type": "code",
   "execution_count": null,
   "metadata": {
    "hideCode": false,
    "hidePrompt": false,
    "id": "GZcXvBU22AyS",
    "outputId": "53e1d764-8f0a-418a-d442-688d12a8b75d"
   },
   "outputs": [
    {
     "data": {
      "text/plain": [
       "array([[ 1,  2,  3],\n",
       "       [ 4,  5,  6],\n",
       "       [ 7,  8,  9],\n",
       "       [10, 11, 12]])"
      ]
     },
     "execution_count": 84,
     "metadata": {},
     "output_type": "execute_result"
    }
   ],
   "source": [
    "A = np.array([[1, 2, 3], [4, 5, 6], [7, 8, 9], [10, 11, 12]])\n",
    "A"
   ]
  },
  {
   "cell_type": "code",
   "execution_count": null,
   "metadata": {
    "id": "zxy9qjpF2AyV",
    "outputId": "e54775bb-bfe5-4b23-9cba-e52b79864d71"
   },
   "outputs": [
    {
     "data": {
      "text/plain": [
       "array([[2, 7],\n",
       "       [1, 2],\n",
       "       [3, 6]])"
      ]
     },
     "execution_count": 85,
     "metadata": {},
     "output_type": "execute_result"
    }
   ],
   "source": [
    "B = np.array([[2, 7], [1, 2], [3, 6]])\n",
    "B"
   ]
  },
  {
   "cell_type": "code",
   "execution_count": null,
   "metadata": {
    "hideCode": false,
    "hidePrompt": false,
    "id": "xx0zrFRY2AyY",
    "outputId": "da3532cb-bed0-4b89-9447-0856312a0183"
   },
   "outputs": [
    {
     "data": {
      "text/plain": [
       "array([[ 13,  29],\n",
       "       [ 31,  74],\n",
       "       [ 49, 119],\n",
       "       [ 67, 164]])"
      ]
     },
     "execution_count": 86,
     "metadata": {},
     "output_type": "execute_result"
    }
   ],
   "source": [
    "C = A.dot(B)\n",
    "C"
   ]
  },
  {
   "cell_type": "markdown",
   "metadata": {
    "hideCode": false,
    "hidePrompt": false,
    "id": "3uak1KQF2Ayb"
   },
   "source": [
    "Ça marche!\n",
    "\n",
    "# Formalisation du produit scalaire\n",
    "\n",
    "Le produit scalaire peut être formalisé par l'équation suivante :\n",
    "\n",
    "$$\n",
    "C_{i,j} = A_{i,k}B_{k,j} = \\sum_{k}A_{i,k}B_{k,j}\n",
    "$$"
   ]
  },
  {
   "cell_type": "markdown",
   "metadata": {
    "hideCode": false,
    "hidePrompt": false,
    "id": "LZzFWMz12Ayd"
   },
   "source": [
    "# Propriétés du produit scalaire\n",
    "\n",
    "Nous allons maintenant voir quelques propriétés intéressantes du produit scalaire. En utilisant des exemples simples pour chaque propriété, nous allons nous habituer aux fonctions Numpy.\n",
    "\n",
    "## La mutliplication matricielle est distributive\n",
    "\n",
    "\n",
    "$$\\bs{A}(\\bs{B}+\\bs{C}) = \\bs{AB}+\\bs{AC}$$\n",
    "\n",
    "### Exemple 3.\n",
    "\n",
    "$$\n",
    "\\bs{A}=\\begin{bmatrix}\n",
    "    2 & 3 \\\\\\\\\n",
    "    1 & 4 \\\\\\\\\n",
    "    7 & 6\n",
    "\\end{bmatrix}, \n",
    "\\bs{B}=\\begin{bmatrix}\n",
    "    5 \\\\\\\\\n",
    "    2\n",
    "\\end{bmatrix}, \n",
    "\\bs{C}=\\begin{bmatrix}\n",
    "    4 \\\\\\\\\n",
    "    3\n",
    "\\end{bmatrix}\n",
    "$$\n",
    "\n",
    "\n",
    "$$\n",
    "\\begin{align*}\n",
    "\\bs{A}(\\bs{B}+\\bs{C})&=\\begin{bmatrix}\n",
    "    2 & 3 \\\\\\\\\n",
    "    1 & 4 \\\\\\\\\n",
    "    7 & 6\n",
    "\\end{bmatrix}\\times\n",
    "\\left(\\begin{bmatrix}\n",
    "    5 \\\\\\\\\n",
    "    2\n",
    "\\end{bmatrix}+\n",
    "\\begin{bmatrix}\n",
    "    4 \\\\\\\\\n",
    "    3\n",
    "\\end{bmatrix}\\right)=\n",
    "\\begin{bmatrix}\n",
    "    2 & 3 \\\\\\\\\n",
    "    1 & 4 \\\\\\\\\n",
    "    7 & 6\n",
    "\\end{bmatrix}\\times\n",
    "\\begin{bmatrix}\n",
    "    9 \\\\\\\\\n",
    "    5\n",
    "\\end{bmatrix}\\\\\\\\\n",
    "&=\n",
    "\\begin{bmatrix}\n",
    "    2 \\times 9 + 3 \\times 5 \\\\\\\\\n",
    "    1 \\times 9 + 4 \\times 5 \\\\\\\\\n",
    "    7 \\times 9 + 6 \\times 5\n",
    "\\end{bmatrix}=\n",
    "\\begin{bmatrix}\n",
    "    33 \\\\\\\\\n",
    "    29 \\\\\\\\\n",
    "    93\n",
    "\\end{bmatrix}\n",
    "\\end{align*}\n",
    "$$\n",
    "\n",
    "est équivalent à\n",
    "\n",
    "$$\n",
    "\\begin{align*}\n",
    "\\bs{A}\\bs{B}+\\bs{A}\\bs{C} &= \\begin{bmatrix}\n",
    "    2 & 3 \\\\\\\\\n",
    "    1 & 4 \\\\\\\\\n",
    "    7 & 6\n",
    "\\end{bmatrix}\\times\n",
    "\\begin{bmatrix}\n",
    "    5 \\\\\\\\\n",
    "    2\n",
    "\\end{bmatrix}+\n",
    "\\begin{bmatrix}\n",
    "    2 & 3 \\\\\\\\\n",
    "    1 & 4 \\\\\\\\\n",
    "    7 & 6\n",
    "\\end{bmatrix}\\times\n",
    "\\begin{bmatrix}\n",
    "    4 \\\\\\\\\n",
    "    3\n",
    "\\end{bmatrix}\\\\\\\\\n",
    "&=\n",
    "\\begin{bmatrix}\n",
    "    2 \\times 5 + 3 \\times 2 \\\\\\\\\n",
    "    1 \\times 5 + 4 \\times 2 \\\\\\\\\n",
    "    7 \\times 5 + 6 \\times 2\n",
    "\\end{bmatrix}+\n",
    "\\begin{bmatrix}\n",
    "    2 \\times 4 + 3 \\times 3 \\\\\\\\\n",
    "    1 \\times 4 + 4 \\times 3 \\\\\\\\\n",
    "    7 \\times 4 + 6 \\times 3\n",
    "\\end{bmatrix}\\\\\\\\\n",
    "&=\n",
    "\\begin{bmatrix}\n",
    "    16 \\\\\\\\\n",
    "    13 \\\\\\\\\n",
    "    47\n",
    "\\end{bmatrix}+\n",
    "\\begin{bmatrix}\n",
    "    17 \\\\\\\\\n",
    "    16 \\\\\\\\\n",
    "    46\n",
    "\\end{bmatrix}=\n",
    "\\begin{bmatrix}\n",
    "    33 \\\\\\\\\n",
    "    29 \\\\\\\\\n",
    "    93\n",
    "\\end{bmatrix}\n",
    "\\end{align*}\n",
    "$$"
   ]
  },
  {
   "cell_type": "code",
   "execution_count": null,
   "metadata": {
    "hideCode": false,
    "hidePrompt": false,
    "id": "9VBqfQZX2Ayi",
    "outputId": "382334b2-0bdb-42e0-c85a-751651a0020e"
   },
   "outputs": [
    {
     "data": {
      "text/plain": [
       "array([[2, 3],\n",
       "       [1, 4],\n",
       "       [7, 6]])"
      ]
     },
     "execution_count": 87,
     "metadata": {},
     "output_type": "execute_result"
    }
   ],
   "source": [
    "A = np.array([[2, 3], [1, 4], [7, 6]])\n",
    "A"
   ]
  },
  {
   "cell_type": "code",
   "execution_count": null,
   "metadata": {
    "id": "xq9_kQje2Ayl",
    "outputId": "1fb4e4e2-5e8c-4a21-bf6d-1c1a7e662476"
   },
   "outputs": [
    {
     "data": {
      "text/plain": [
       "array([[5],\n",
       "       [2]])"
      ]
     },
     "execution_count": 88,
     "metadata": {},
     "output_type": "execute_result"
    }
   ],
   "source": [
    "B = np.array([[5], [2]])\n",
    "B"
   ]
  },
  {
   "cell_type": "code",
   "execution_count": null,
   "metadata": {
    "hideCode": false,
    "hidePrompt": false,
    "id": "xo5eNKJ52Ayo",
    "outputId": "dd00d275-6d17-4ef7-e95f-cc7d5fc0379e"
   },
   "outputs": [
    {
     "data": {
      "text/plain": [
       "array([[4],\n",
       "       [3]])"
      ]
     },
     "execution_count": 89,
     "metadata": {},
     "output_type": "execute_result"
    }
   ],
   "source": [
    "C = np.array([[4], [3]])\n",
    "C"
   ]
  },
  {
   "cell_type": "markdown",
   "metadata": {
    "id": "iV2CC6_z2Ayr"
   },
   "source": [
    "$\\bs{A}(\\bs{B}+\\bs{C})$:"
   ]
  },
  {
   "cell_type": "code",
   "execution_count": null,
   "metadata": {
    "hideCode": false,
    "hidePrompt": false,
    "id": "QG3FQgvK2Ayt",
    "outputId": "8d1e665a-10f9-43e0-ed60-85d85155dab0"
   },
   "outputs": [
    {
     "data": {
      "text/plain": [
       "array([[33],\n",
       "       [29],\n",
       "       [93]])"
      ]
     },
     "execution_count": 90,
     "metadata": {},
     "output_type": "execute_result"
    }
   ],
   "source": [
    "D = A.dot(B+C)\n",
    "D"
   ]
  },
  {
   "cell_type": "markdown",
   "metadata": {
    "id": "NiKEJd342Ayv"
   },
   "source": [
    "est équivalent à $\\bs{AB}+\\bs{AC}$:"
   ]
  },
  {
   "cell_type": "code",
   "execution_count": null,
   "metadata": {
    "hideCode": false,
    "hidePrompt": false,
    "id": "toUeApOf2Ayw",
    "outputId": "fea32a8d-b9a2-454d-b631-8d3b2e74595a"
   },
   "outputs": [
    {
     "data": {
      "text/plain": [
       "array([[33],\n",
       "       [29],\n",
       "       [93]])"
      ]
     },
     "execution_count": 91,
     "metadata": {},
     "output_type": "execute_result"
    }
   ],
   "source": [
    "D = A.dot(B) + A.dot(C)\n",
    "D"
   ]
  },
  {
   "cell_type": "markdown",
   "metadata": {
    "hideCode": false,
    "hidePrompt": false,
    "id": "i2DlyDdk2Ayy"
   },
   "source": [
    "## La mutliplication matricielle est associative\n",
    "\n",
    "$$\\bs{A}(\\bs{BC}) = (\\bs{AB})\\bs{C}$$"
   ]
  },
  {
   "cell_type": "code",
   "execution_count": null,
   "metadata": {
    "hideCode": false,
    "hidePrompt": false,
    "id": "haZIKOGG2Ayz",
    "outputId": "48632538-c35b-4ae0-d780-1c7dee81fef5"
   },
   "outputs": [
    {
     "data": {
      "text/plain": [
       "array([[2, 3],\n",
       "       [1, 4],\n",
       "       [7, 6]])"
      ]
     },
     "execution_count": 92,
     "metadata": {},
     "output_type": "execute_result"
    }
   ],
   "source": [
    "A = np.array([[2, 3], [1, 4], [7, 6]])\n",
    "A"
   ]
  },
  {
   "cell_type": "code",
   "execution_count": null,
   "metadata": {
    "id": "W0rV7yPv2Ay1",
    "outputId": "fbb1d4ae-f324-45d0-a9ab-a4a3aeffbc47"
   },
   "outputs": [
    {
     "data": {
      "text/plain": [
       "array([[5, 3],\n",
       "       [2, 2]])"
      ]
     },
     "execution_count": 93,
     "metadata": {},
     "output_type": "execute_result"
    }
   ],
   "source": [
    "B = np.array([[5, 3], [2, 2]])\n",
    "B"
   ]
  },
  {
   "cell_type": "markdown",
   "metadata": {
    "id": "07BIsros2Ay3"
   },
   "source": [
    "$\\bs{A}(\\bs{BC})$:\n"
   ]
  },
  {
   "cell_type": "code",
   "execution_count": null,
   "metadata": {
    "hideCode": false,
    "hidePrompt": false,
    "id": "xUj8PiFw2Ay5",
    "outputId": "31bd3247-0c29-4bae-9b82-d1af9736644b"
   },
   "outputs": [
    {
     "data": {
      "text/plain": [
       "array([[100],\n",
       "       [ 85],\n",
       "       [287]])"
      ]
     },
     "execution_count": 94,
     "metadata": {},
     "output_type": "execute_result"
    }
   ],
   "source": [
    "D = A.dot(B.dot(C))\n",
    "D"
   ]
  },
  {
   "cell_type": "markdown",
   "metadata": {
    "id": "8NcPtHEy2Ay7"
   },
   "source": [
    "est équivalent à $(\\bs{AB})\\bs{C}$:"
   ]
  },
  {
   "cell_type": "code",
   "execution_count": null,
   "metadata": {
    "hideCode": false,
    "hidePrompt": false,
    "id": "tVJX6qED2Ay8",
    "outputId": "605d6dfa-f6b8-479d-b64c-8714d65f2663"
   },
   "outputs": [
    {
     "data": {
      "text/plain": [
       "array([[100],\n",
       "       [ 85],\n",
       "       [287]])"
      ]
     },
     "execution_count": 95,
     "metadata": {},
     "output_type": "execute_result"
    }
   ],
   "source": [
    "D = (A.dot(B)).dot(C)\n",
    "D"
   ]
  },
  {
   "cell_type": "markdown",
   "metadata": {
    "hideCode": false,
    "hidePrompt": false,
    "id": "wuArPb4o2Ay-"
   },
   "source": [
    "## La multiplication matricielle n'est pas commutative\n",
    "\n",
    "$$\\bs{AB} \\neq \\bs{BA}$$"
   ]
  },
  {
   "cell_type": "code",
   "execution_count": null,
   "metadata": {
    "hideCode": false,
    "hidePrompt": false,
    "id": "ZoeBR4GC2Ay_",
    "outputId": "245245b2-0f85-41e6-e536-5563d24d977d"
   },
   "outputs": [
    {
     "data": {
      "text/plain": [
       "array([[2, 3],\n",
       "       [6, 5]])"
      ]
     },
     "execution_count": 96,
     "metadata": {},
     "output_type": "execute_result"
    }
   ],
   "source": [
    "A = np.array([[2, 3], [6, 5]])\n",
    "A"
   ]
  },
  {
   "cell_type": "code",
   "execution_count": null,
   "metadata": {
    "id": "oBxnpyDL2AzB",
    "outputId": "d9e508b3-6227-4041-df1b-602f49fd35c4"
   },
   "outputs": [
    {
     "data": {
      "text/plain": [
       "array([[5, 3],\n",
       "       [2, 2]])"
      ]
     },
     "execution_count": 97,
     "metadata": {},
     "output_type": "execute_result"
    }
   ],
   "source": [
    "B = np.array([[5, 3], [2, 2]])\n",
    "B"
   ]
  },
  {
   "cell_type": "markdown",
   "metadata": {
    "id": "9I5rN7to2AzD"
   },
   "source": [
    "$\\bs{AB}$:"
   ]
  },
  {
   "cell_type": "code",
   "execution_count": null,
   "metadata": {
    "hideCode": false,
    "hidePrompt": false,
    "id": "DHI8p7LY2AzE",
    "outputId": "a9a3c0f7-b143-4417-a4cc-649d6b4e14c5"
   },
   "outputs": [
    {
     "data": {
      "text/plain": [
       "array([[16, 12],\n",
       "       [40, 28]])"
      ]
     },
     "execution_count": 98,
     "metadata": {},
     "output_type": "execute_result"
    }
   ],
   "source": [
    "AB = np.dot(A, B)\n",
    "AB"
   ]
  },
  {
   "cell_type": "markdown",
   "metadata": {
    "id": "7bUxwHt02AzG"
   },
   "source": [
    "est different de $\\bs{BA}$:"
   ]
  },
  {
   "cell_type": "code",
   "execution_count": null,
   "metadata": {
    "hideCode": false,
    "hidePrompt": false,
    "id": "HHGY5Dwk2AzH",
    "outputId": "47fdb94c-9f52-4b3d-a77d-087015e0458e"
   },
   "outputs": [
    {
     "data": {
      "text/plain": [
       "array([[28, 30],\n",
       "       [16, 16]])"
      ]
     },
     "execution_count": 99,
     "metadata": {},
     "output_type": "execute_result"
    }
   ],
   "source": [
    "BA = np.dot(B, A)\n",
    "BA"
   ]
  },
  {
   "cell_type": "markdown",
   "metadata": {
    "hideCode": false,
    "hidePrompt": false,
    "id": "nk1j4Zme2AzK"
   },
   "source": [
    "## Cependant, la multiplication des vecteurs est commutative\n",
    "\n",
    "$$\\bs{x^{ \\text{T}}y} = \\bs{y^{\\text{T}}x} $$"
   ]
  },
  {
   "cell_type": "code",
   "execution_count": null,
   "metadata": {
    "hideCode": false,
    "hidePrompt": false,
    "id": "DWuzuojM2AzM",
    "outputId": "6ab9e074-765d-431d-9d45-31b3586ba5be"
   },
   "outputs": [
    {
     "data": {
      "text/plain": [
       "array([[2],\n",
       "       [6]])"
      ]
     },
     "execution_count": 100,
     "metadata": {},
     "output_type": "execute_result"
    }
   ],
   "source": [
    "x = np.array([[2], [6]])\n",
    "x"
   ]
  },
  {
   "cell_type": "code",
   "execution_count": null,
   "metadata": {
    "id": "Z6Xr9y2s2AzN",
    "outputId": "692a6aff-f361-436f-fc85-52585ffeb618"
   },
   "outputs": [
    {
     "data": {
      "text/plain": [
       "array([[5],\n",
       "       [2]])"
      ]
     },
     "execution_count": 101,
     "metadata": {},
     "output_type": "execute_result"
    }
   ],
   "source": [
    "y = np.array([[5], [2]])\n",
    "y"
   ]
  },
  {
   "cell_type": "markdown",
   "metadata": {
    "id": "oYrmtapo2AzP"
   },
   "source": [
    "$\\bs{x^\\text{T}y}$:"
   ]
  },
  {
   "cell_type": "code",
   "execution_count": null,
   "metadata": {
    "hideCode": false,
    "hidePrompt": false,
    "id": "us-R2p952AzQ",
    "outputId": "f4f50fc6-dfb5-40b9-e6a6-daf5339ae460"
   },
   "outputs": [
    {
     "data": {
      "text/plain": [
       "array([[22]])"
      ]
     },
     "execution_count": 102,
     "metadata": {},
     "output_type": "execute_result"
    }
   ],
   "source": [
    "x_ty = x.T.dot(y)\n",
    "x_ty"
   ]
  },
  {
   "cell_type": "markdown",
   "metadata": {
    "id": "t0qRf60S2AzS"
   },
   "source": [
    "est équivalent à $\\bs{y^\\text{T}x}$:"
   ]
  },
  {
   "cell_type": "code",
   "execution_count": null,
   "metadata": {
    "hideCode": false,
    "hidePrompt": false,
    "id": "BeKl33Vo2AzT",
    "outputId": "9e6aa87e-b179-4595-f933-ba39bc1bc426"
   },
   "outputs": [
    {
     "data": {
      "text/plain": [
       "array([[22]])"
      ]
     },
     "execution_count": 103,
     "metadata": {},
     "output_type": "execute_result"
    }
   ],
   "source": [
    "y_tx = y.T.dot(x)\n",
    "y_tx"
   ]
  },
  {
   "cell_type": "markdown",
   "metadata": {
    "hideCode": false,
    "hidePrompt": false,
    "id": "DPa6s6tf2AzV"
   },
   "source": [
    "## Simplification du produit matriciel\n",
    "\n",
    "$$(\\bs{AB})^{\\text{T}} = \\bs{B}^\\text{T}\\bs{A}^\\text{T}$$"
   ]
  },
  {
   "cell_type": "code",
   "execution_count": null,
   "metadata": {
    "hideCode": false,
    "hidePrompt": false,
    "id": "xkZea6Y52AzW",
    "outputId": "97a31db5-05ea-4e37-bddf-cb559ab622d3"
   },
   "outputs": [
    {
     "data": {
      "text/plain": [
       "array([[2, 3],\n",
       "       [1, 4],\n",
       "       [7, 6]])"
      ]
     },
     "execution_count": 104,
     "metadata": {},
     "output_type": "execute_result"
    }
   ],
   "source": [
    "A = np.array([[2, 3], [1, 4], [7, 6]])\n",
    "A"
   ]
  },
  {
   "cell_type": "code",
   "execution_count": null,
   "metadata": {
    "id": "-PbA6Y212AzY",
    "outputId": "52aee85d-16a4-4095-f8a5-973d89f84369"
   },
   "outputs": [
    {
     "data": {
      "text/plain": [
       "array([[5, 3],\n",
       "       [2, 2]])"
      ]
     },
     "execution_count": 105,
     "metadata": {},
     "output_type": "execute_result"
    }
   ],
   "source": [
    "B = np.array([[5, 3], [2, 2]])\n",
    "B"
   ]
  },
  {
   "cell_type": "markdown",
   "metadata": {
    "hideCode": false,
    "hidePrompt": false,
    "id": "2s0Wu4iz2Aza"
   },
   "source": [
    "$(\\bs{AB})^{\\text{T}}$:"
   ]
  },
  {
   "cell_type": "code",
   "execution_count": null,
   "metadata": {
    "hideCode": false,
    "hidePrompt": false,
    "id": "KVISiB_E2Azb",
    "outputId": "7a1bbff6-b4c4-4d95-8f75-02633a86d1ac"
   },
   "outputs": [
    {
     "data": {
      "text/plain": [
       "array([[16, 13, 47],\n",
       "       [12, 11, 33]])"
      ]
     },
     "execution_count": 106,
     "metadata": {},
     "output_type": "execute_result"
    }
   ],
   "source": [
    "AB_t = A.dot(B).T\n",
    "AB_t"
   ]
  },
  {
   "cell_type": "markdown",
   "metadata": {
    "hideCode": false,
    "hidePrompt": false,
    "id": "PSuAR2hV2Azd"
   },
   "source": [
    "est équivalent à $\\bs{B}^\\text{T}\\bs{A}^\\text{T}$:"
   ]
  },
  {
   "cell_type": "code",
   "execution_count": null,
   "metadata": {
    "hideCode": false,
    "hidePrompt": false,
    "id": "SXKP9-S42Azf",
    "outputId": "a8ef62c4-d071-48d0-81b6-e22135aa4d18",
    "scrolled": true
   },
   "outputs": [
    {
     "data": {
      "text/plain": [
       "array([[16, 13, 47],\n",
       "       [12, 11, 33]])"
      ]
     },
     "execution_count": 107,
     "metadata": {},
     "output_type": "execute_result"
    }
   ],
   "source": [
    "B_tA = B.T.dot(A.T)\n",
    "B_tA"
   ]
  },
  {
   "cell_type": "markdown",
   "metadata": {
    "hideCode": false,
    "hidePrompt": false,
    "id": "IZgc5K462Azg"
   },
   "source": [
    "# Système d'équations linéaires\n",
    "\n",
    "C'est une partie importante de la raison pour laquelle l'algèbre linéaire peut être très utile pour résoudre une grande variété de problèmes. Nous allons voir ici qu'elle peut être utilisée pour représenter des systèmes d'équations.\n",
    "\n",
    "Un système d'équations est un ensemble d'équations multiples (au moins 1). Par exemple, nous pourrions avoir :\n",
    "\n",
    "\n",
    "<div>\n",
    "$\n",
    "\\begin{cases}\n",
    "y = 2x + 1 \\\\\\\n",
    "y = \\frac{7}{2}x +3\n",
    "\\end{cases}\n",
    "$\n",
    "</div>\n",
    "\n",
    "Elle est définie par son nombre d'équations et son nombre d'inconnues. Dans cet exemple, il y a 2 équations (la première et la deuxième ligne) et 2 inconnues ($x$ et $y$). De plus, nous appelons cela un système d'équations **linéaires** car chaque équation est linéaire. Nous pouvons représenter cela en 2 dimensions : nous avons une ligne droite par équation et les dimensions correspondent aux inconnues. Voici le tracé de la première équation :\n",
    "\n",
    "<img src=\"images/plot-linear-equation.png\" width=\"300\" Représentation d'une ligne à partir d'une équation\" \n",
    "title=\"Tracé d'une équation linéaire\">\n",
    "<em>Representation d'une equation linéaire</em>\n",
    "\n",
    "<span class='pquote'>\n",
    "    Dans notre système d'équations, les inconnues sont les dimensions et le nombre d'équations est le nombre de lignes (en 2D) ou de plans à $n$ dimensions.\n",
    "</span>"
   ]
  },
  {
   "cell_type": "markdown",
   "metadata": {
    "id": "rXCvnEuy2Azi"
   },
   "source": [
    "## Utilisation de matrices pour décrire le système\n",
    "\n",
    "Les matrices peuvent être utilisées pour décrire un système d'équations linéaires de la forme $\\bs{Ax}=\\bs{b}$. Voici un tel système :\n",
    "\n",
    "$$\n",
    "A_{1,1}x_1 + A_{1,2}x_2 + A_{1,n}x_n = b_1 \\\\\\\\\n",
    "A_{2,1}x_1 + A_{2,2}x_2 + A_{2,n}x_n = b_2 \\\\\\\\\n",
    "\\cdots \\\\\\\\\n",
    "A_{m,1}x_1 + A_{m,2}x_2 + A_{m,n}x_n = b_n\n",
    "$$\n",
    "\n",
    "Les inconnues (ce que nous voulons trouver pour résoudre le système) sont les variables $x_1$ et $x_2$. C'est exactement la même forme que dans le dernier exemple mais avec toutes les variables du même côté. $y = 2x + 1$ devient $-2x + y = 1$ avec $x$ correspondant à $x_1$ et $y$ correspondant à $x_2$. Nous aurons $n$ inconnues et $m$ équations.\n",
    "\n",
    "Les variables sont nommées $x_1, x_2, \\cdots, x_n$ par convention car nous verrons que cela peut se résumer au vecteur $\\bs{x}$.\n",
    "\n",
    "### Côté gauche\n",
    "\n",
    "Le côté gauche peut être considéré comme le produit d'une matrice $\\bs{A}$ contenant les poids de chaque variable ($n$ colonnes) et de chaque équation ($m$ lignes) :\n",
    "\n",
    "<div>\n",
    "$\n",
    "\\bs{A}=\n",
    "\\begin{bmatrix}\n",
    "    A_{1,1} & A_{1,2} & \\cdots & A_{1,n} \\\\\\\n",
    "    A_{2,1} & A_{2,2} & \\cdots & A_{2,n} \\\\\\\n",
    "    \\cdots & \\cdots & \\cdots & \\cdots \\\\\\\n",
    "    A_{m,1} & A_{m,2} & \\cdots & A_{m,n}\n",
    "\\end{bmatrix}\n",
    "$\n",
    "</div>\n",
    "\n",
    "avec un vecteur $\\bs{x}$ contenant les $n$ inconnues\n",
    "\n",
    "<div>\n",
    "$\n",
    "\\bs{x}=\n",
    "\\begin{bmatrix}\n",
    "    x_1 \\\\\\\n",
    "    x_2 \\\\\\\n",
    "    \\cdots \\\\\\\n",
    "    x_n\n",
    "\\end{bmatrix}\n",
    "$\n",
    "</div>\n",
    "\n",
    "Le produit scalaire de $\\bs{A}$ et de $\\bs{x}$ donne un ensemble d'équations. Voici un exemple simple :\n",
    "\n",
    "<img src=\"images/system-linear-equations-matrix-form.png\" width=\"400\" alt=\"Matrix form of a system of linear equation\" title=\"Matrix form of a system of linear equation\">\n",
    "<em>Matrix form of a system of linear equations</em>\n",
    "\n",
    "On a un ensemble de deux équations avec deux inconnues. Donc le nombre de lignes de $\\bs{A}$ donne le nombre d'équations et le nombre de colonnes donne le nombre d'inconnues.\n",
    "\n",
    "### Les deux côtés\n",
    "\n",
    "Le système d'équations peut être écrit comme suit :\n",
    "\n",
    "$$\n",
    "\\begin{bmatrix}\n",
    "    A_{1,1} & A_{1,2} & \\cdots & A_{1,n} \\\\\\\\\n",
    "    A_{2,1} & A_{2,2} & \\cdots & A_{2,n} \\\\\\\\\n",
    "    \\cdots & \\cdots & \\cdots & \\cdots \\\\\\\\\n",
    "    A_{m,1} & A_{m,2} & \\cdots & A_{m,n}\n",
    "\\end{bmatrix}\n",
    "\\begin{bmatrix}\n",
    "    x_1 \\\\\\\\\n",
    "    x_2 \\\\\\\\\n",
    "    \\cdots \\\\\\\\\n",
    "    x_n\n",
    "\\end{bmatrix}\n",
    "=\n",
    "\\begin{bmatrix}\n",
    "    b_1 \\\\\\\\\n",
    "    b_2 \\\\\\\\\n",
    "    \\cdots \\\\\\\\\n",
    "    b_m\n",
    "\\end{bmatrix}\n",
    "$$\n",
    "\n",
    "Ou simplement:\n",
    "\n",
    "$$\\bs{Ax}=\\bs{b}$$"
   ]
  },
  {
   "cell_type": "markdown",
   "metadata": {
    "id": "vKReA1op2Azl"
   },
   "source": [
    "### Exemple 4.\n",
    "\n",
    "Nous allons essayer de convertir la forme courante d'une équation linéaire $y=ax+b$ à la forme matricielle. Si nous voulons garder la notation précédente, nous aurons à la place :\n",
    "\n",
    "<div>\n",
    "$x_2=ax_1+b$\n",
    "</div>\n",
    "\n",
    "Ne confondez pas les variables $x_1$ et $x_2$ avec le vecteur $\\bs{x}$. Ce vecteur contient toutes les variables de nos équations :\n",
    "\n",
    "<div>\n",
    "$\n",
    "\\bs{x} =\n",
    "\\begin{bmatrix}\n",
    "    x_1 \\\\\\\n",
    "    x_2\n",
    "\\end{bmatrix}\n",
    "$\n",
    "</div>\n",
    "\n",
    "Dans cet exemple, nous utiliserons l'équation suivante :\n",
    "\n",
    "<div>\n",
    "$\n",
    "\\begin{aligned}\n",
    "&x_2=2x_1+1 \\\\\\\n",
    "\\Leftrightarrow& 2x_1-x_2=-1\n",
    "\\end{aligned}\n",
    "$\n",
    "</div>\n",
    "\n",
    "Pour obtenir ce système lorsque nous multiplions $\\bs{A}$ et $\\bs{x}$, nous avons besoin que $\\bs{A}$ soit une matrice contenant les poids de chaque variable. Le poids de $x_1$ est de $2$ et celui de $x_2$ est de $-1$ :\n",
    "\n",
    "<div>\n",
    "$\n",
    "\\bs{A}=\n",
    "\\begin{bmatrix}\n",
    "    2 & -1\n",
    "\\end{bmatrix}\n",
    "$\n",
    "</div>\n",
    "\n",
    "Alors on a\n",
    "\n",
    "<div>\n",
    "$\n",
    "\\begin{bmatrix}\n",
    "    2 & -1\n",
    "\\end{bmatrix}\n",
    "\\begin{bmatrix}\n",
    "    x_1 \\\\\\\n",
    "    x_2\n",
    "\\end{bmatrix}\n",
    "=\n",
    "\\begin{bmatrix}\n",
    "2x_1-1x_2\n",
    "\\end{bmatrix}\n",
    "$\n",
    "</div>\n",
    "\n",
    "Pour completer l'équation on a\n",
    "\n",
    "<div>\n",
    "$\n",
    "\\bs{b}=\n",
    "\\begin{bmatrix}\n",
    "    -1\n",
    "\\end{bmatrix}\n",
    "$\n",
    "</div>\n",
    "\n",
    "Qui donne\n",
    "\n",
    "<div>\n",
    "$\n",
    "\\begin{bmatrix}\n",
    "    2 & -1\n",
    "\\end{bmatrix}\n",
    "\\begin{bmatrix}\n",
    "    x_1 \\\\\\\n",
    "    x_2\n",
    "\\end{bmatrix}\n",
    "=\n",
    "\\begin{bmatrix}\n",
    "    -1\n",
    "\\end{bmatrix}\n",
    "$\n",
    "</div>\n",
    "\n",
    "Ce système d'équations est donc très simple et ne contient qu'une équation ($\\bs{A}$ a 1 ligne) et 2 variables ($\\bs{A}$ a 2 colonnes).\n",
    "\n",
    "En résumé, $\\bs{A}$ sera une matrice de dimensions $m\\times n$ contenant des scalaires multipliant ces variables (ici $x_1$ est multiplié par 2 et $x_2$ par -1). Le vecteur $\\bs{x}$ contient les variables $x_1$ et $x_2$. Et le côté droit est la constante $\\bs{b}$ :\n",
    "\n",
    "<div>\n",
    "$\n",
    "\\bs{A}=\n",
    "\\begin{bmatrix}\n",
    "    2 & -1\n",
    "\\end{bmatrix}\n",
    "$\n",
    "</div>\n",
    "\n",
    "<div>\n",
    "$\n",
    "\\bs{x}=\n",
    "\\begin{bmatrix}\n",
    "    x_1 \\\\\\\n",
    "    x_2\n",
    "\\end{bmatrix}\n",
    "$\n",
    "</div>\n",
    "\n",
    "<div>\n",
    "$\n",
    "\\bs{b}=\n",
    "\\begin{bmatrix}\n",
    "    -1\n",
    "\\end{bmatrix}\n",
    "$\n",
    "</div>\n",
    "\n",
    "On peut écrire ce système\n",
    "\n",
    "<div>\n",
    "$\n",
    "\\bs{Ax}=\\bs{b}\n",
    "$\n",
    "</div>"
   ]
  }
 ],
 "metadata": {
  "colab": {
   "provenance": []
  },
  "hide_code_all_hidden": false,
  "kernelspec": {
   "display_name": "Python 3 (ipykernel)",
   "language": "python",
   "name": "python3"
  },
  "language_info": {
   "codemirror_mode": {
    "name": "ipython",
    "version": 3
   },
   "file_extension": ".py",
   "mimetype": "text/x-python",
   "name": "python",
   "nbconvert_exporter": "python",
   "pygments_lexer": "ipython3",
   "version": "3.9.13"
  },
  "toc": {
   "base_numbering": 1,
   "nav_menu": {},
   "number_sections": false,
   "sideBar": true,
   "skip_h1_title": false,
   "title_cell": "Table of Contents",
   "title_sidebar": "Contents",
   "toc_cell": false,
   "toc_position": {},
   "toc_section_display": true,
   "toc_window_display": false
  }
 },
 "nbformat": 4,
 "nbformat_minor": 1
}
